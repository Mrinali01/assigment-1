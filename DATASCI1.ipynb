{
 "cells": [
  {
   "cell_type": "code",
   "execution_count": null,
   "id": "e73065e2-078f-4d75-88d4-b6b037ce0929",
   "metadata": {},
   "outputs": [],
   "source": [
    "Ans1- Python was developed by GUIDO VAN ROSSUM in late 1980s , he was working at the NATIONAL RESEARCH INSTITUTE for MATHEMATICS and COMPUTER SCIENCE in the NETHERLANDS at the time and he named the language after a BBC Television show . "
   ]
  },
  {
   "cell_type": "code",
   "execution_count": null,
   "id": "9841d63e-53b1-451e-bf95-840f4636e200",
   "metadata": {},
   "outputs": [],
   "source": [
    "Ans 2- Python support following kind of programming types :-\n",
    "1- OBJECT ORIENTED PROGRAMMING (OOPS)- IT is a programming paradigm that uses objects and classes in programming. Objects are used to represent programming , attributes and functions governs the description of object.OOPS concepts include abstraction, polymorphism,encapsulation and inheritance.\n",
    "2- STRUCTURED PROGRAMMING - It is concerned with structures used in computer proggraming . Generally structures of computer programming comprises decision , sequence and loop.\n",
    "3- FUNCTIONAL PROGRAMMING - It is a method in programming which emphasise upon results rather than process that involves in writing codes. It defines the output of programme as mathematical functions.\n"
   ]
  },
  {
   "cell_type": "code",
   "execution_count": null,
   "id": "f014b2fe-dc53-4fe2-9c57-42136f18d46a",
   "metadata": {},
   "outputs": [],
   "source": [
    "Ans-3 Identifiers in a python programme are the  names of variables , class or function etc .\n",
    "Python is a case sensitive programme when dealing with it."
   ]
  },
  {
   "cell_type": "code",
   "execution_count": null,
   "id": "065bf05f-a3a2-436a-9ea4-e4d3bf203863",
   "metadata": {},
   "outputs": [],
   "source": [
    "Ans-4 Extension of python files are as follows -\n",
    "1- .py\n",
    "2- .pyi\n",
    "3- .pyc\n",
    "4- .pyd\n",
    "5- .pyo\n",
    "6- .pyw\n",
    "7- .pyz"
   ]
  },
  {
   "cell_type": "code",
   "execution_count": null,
   "id": "7806e1fa-a5c5-4124-952f-398a4cf9bd2c",
   "metadata": {},
   "outputs": [],
   "source": [
    "Ans-5 Python programme is both compiled and interpreted first it is compiled and then interpreted."
   ]
  },
  {
   "cell_type": "code",
   "execution_count": 12,
   "id": "33b19ded-dbc4-4c2b-a498-91ddb4bbedc9",
   "metadata": {},
   "outputs": [],
   "source": [
    "Ans-6 A block of code is a python programme which acts as a unit\n",
    "#eg-\n",
    "# marks = int(input(\"your marks\")\n",
    "# if marks>=70 and marks<100:\n",
    "#            print(\"its ok\")\n",
    "# elif marks<50 :\n",
    "#            print(\"its less\")\n",
    "                  \n",
    "                \n",
    "            \n",
    "            "
   ]
  },
  {
   "cell_type": "code",
   "execution_count": null,
   "id": "bed78275-8e65-475e-b1f0-fe076ea99700",
   "metadata": {},
   "outputs": [],
   "source": [
    "Ans-7- # is used to give single line comment"
   ]
  },
  {
   "cell_type": "code",
   "execution_count": 18,
   "id": "597d1378-1cc1-4044-af1e-5e712f1a8fe5",
   "metadata": {},
   "outputs": [],
   "source": [
    "#Ans 8- This is how we can find python's verdion\n",
    "# import sys\n",
    "# print(sys.version)"
   ]
  },
  {
   "cell_type": "code",
   "execution_count": null,
   "id": "7b5143ad-e4a2-4d30-a0f1-d72a8de4c42c",
   "metadata": {},
   "outputs": [],
   "source": [
    "Ans 9- lambda function"
   ]
  },
  {
   "cell_type": "code",
   "execution_count": null,
   "id": "e8a7ae18-9cc0-4d38-8209-2d28a1fb6548",
   "metadata": {},
   "outputs": [],
   "source": [
    "Ans-10 Pip stands for Preferred installer programme . It is a package management system used to install and manage software package in python"
   ]
  },
  {
   "cell_type": "code",
   "execution_count": null,
   "id": "07ce7885-1e61-4a9e-aae1-5ca1cee33c05",
   "metadata": {},
   "outputs": [],
   "source": [
    "Ans-11 dict() , int() , float() etc are inbuilt functions in pyhon"
   ]
  },
  {
   "cell_type": "code",
   "execution_count": null,
   "id": "fb956127-d69d-4eed-af32-0a49f46426b2",
   "metadata": {},
   "outputs": [],
   "source": [
    "Ans-12 Identifiers are name given to entities like functions, variables etc , maximum length of it is 79 charachters.\n"
   ]
  },
  {
   "cell_type": "code",
   "execution_count": null,
   "id": "b5c69c57-25cb-428b-b009-abaad062e2fb",
   "metadata": {},
   "outputs": [],
   "source": [
    "Ans 14- Benefits of python \n",
    "1- Easy to use\n",
    "2- Flexible\n",
    "3- wide range of use"
   ]
  },
  {
   "cell_type": "code",
   "execution_count": null,
   "id": "f2cef1f7-60a2-481d-8cfe-195d3c7f93e1",
   "metadata": {},
   "outputs": [],
   "source": [
    "Ans-14 Memory in python is managed by Python memory manager and the memory is saves in stacks and heap where stack memory contains reference or named variables and heap memory contains objects in python."
   ]
  },
  {
   "cell_type": "code",
   "execution_count": null,
   "id": "db9d830f-ffbe-4212-9742-888f4c1665c4",
   "metadata": {},
   "outputs": [],
   "source": [
    "Ans 15-  First we should download python and  install it , to set path variable we should go to python saved file and copy pastethe path of the file system enviournment variable"
   ]
  },
  {
   "cell_type": "code",
   "execution_count": null,
   "id": "095c02e4-545a-4d7f-8caa-a1dff34188fb",
   "metadata": {},
   "outputs": [],
   "source": [
    "Ans 16- Indentation refers to spsces befpre code and it is require in python"
   ]
  }
 ],
 "metadata": {
  "kernelspec": {
   "display_name": "Python 3 (ipykernel)",
   "language": "python",
   "name": "python3"
  },
  "language_info": {
   "codemirror_mode": {
    "name": "ipython",
    "version": 3
   },
   "file_extension": ".py",
   "mimetype": "text/x-python",
   "name": "python",
   "nbconvert_exporter": "python",
   "pygments_lexer": "ipython3",
   "version": "3.10.8"
  }
 },
 "nbformat": 4,
 "nbformat_minor": 5
}
